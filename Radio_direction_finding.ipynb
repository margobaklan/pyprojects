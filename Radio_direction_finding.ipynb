{
  "nbformat": 4,
  "nbformat_minor": 0,
  "metadata": {
    "colab": {
      "provenance": []
    },
    "kernelspec": {
      "name": "python3",
      "display_name": "Python 3"
    },
    "language_info": {
      "name": "python"
    }
  },
  "cells": [
    {
      "cell_type": "code",
      "source": [
        "import numpy as np\n",
        "import math\n",
        "import matplotlib.pyplot as plt\n",
        "from tabulate import tabulate"
      ],
      "metadata": {
        "id": "Eptt9DTGbe9K"
      },
      "execution_count": 1,
      "outputs": []
    },
    {
      "cell_type": "markdown",
      "source": [
        "## Запрограмувати розв’язання задачі Коші методами Ейлера та Ейлера-Коші\n"
      ],
      "metadata": {
        "id": "ATkpsa7usg5t"
      }
    },
    {
      "cell_type": "code",
      "execution_count": 2,
      "metadata": {
        "id": "tG7H72KaWuPM"
      },
      "outputs": [],
      "source": [
        "def f(k, y, y_s):\n",
        "  return k*(y_s - y)\n",
        "\n",
        "def Euler(xy, y_s, k, h, n):\n",
        "  xy_new = [(xy[-1][0], xy[-1][1])]\n",
        "\n",
        "  for i in range(0, n):\n",
        "      x = xy_new[-1][0] + h\n",
        "      y = xy_new[-1][1] + h*f(k, xy_new[-1][1], y_s)\n",
        "      xy_new.append((x, y))\n",
        "\n",
        "  return xy_new\n",
        "\n",
        "def Euler_Cauchy(xy, y_s, k, h, n):\n",
        "  xy_new = [(xy[-1][0], xy[-1][1])]\n",
        "\n",
        "  for i in range(0, n):\n",
        "      x = xy_new[-1][0] + h\n",
        "      y = xy_new[-1][1] + h*f(k, xy_new[-1][1], y_s)\n",
        "      y = xy_new[-1][1] + h*((f(k, xy_new[-1][1], y_s)+f(k, y, y_s))/2)\n",
        "      xy_new.append((x, y))\n",
        "\n",
        "  return xy_new"
      ]
    },
    {
      "cell_type": "markdown",
      "source": [
        "## Параметри $x_0, y_0, y_s,$ $k$\n"
      ],
      "metadata": {
        "id": "s4M0_89QXf9l"
      }
    },
    {
      "cell_type": "code",
      "source": [
        "x_0 = 0\n",
        "y_0 = 87\n",
        "y_s = 22\n",
        "k = 0.045\n",
        "n = 13 # к-сть ітерацій\n",
        "h = 1 # крок\n",
        "xy = [(x_0, y_0)]"
      ],
      "metadata": {
        "id": "cl_xXubYXfcU"
      },
      "execution_count": 3,
      "outputs": []
    },
    {
      "cell_type": "markdown",
      "source": [
        "##Закон теплопровідності\n",
        "\\begin{align}\n\\left\\{\n\\begin{array}{cl}\n\\frac{dy}{dx}=-k(y-y_s) \\\\\ny(x_0) = y_0\n\\end{array}\n\\right.\n\\end{align}\n"
      ],
      "metadata": {
        "id": "RUb4SGeWWu-h"
      }
    },
    {
      "cell_type": "code",
      "source": [
        "def print_xy(XY):\n",
        "  for i in XY: print(f\"x = {i[0]}    y = {i[1]}\")\n",
        "xy_Euler = Euler(xy, y_s, k, h, n)\n",
        "print(\"ЕЙЛЕР\")\n",
        "print_xy(xy_Euler)\n",
        "# print(tabulate(xy_Euler, headers = ['x','y'], tablefmt='fancy_grid', floatfmt=['.6f', '.6f']))"
      ],
      "metadata": {
        "id": "yPpi3kE5bSEZ",
        "colab": {
          "base_uri": "https://localhost:8080/"
        },
        "outputId": "c08d77da-f56c-47da-d89a-05c86f20515c"
      },
      "execution_count": 4,
      "outputs": [
        {
          "output_type": "stream",
          "name": "stdout",
          "text": [
            "ЕЙЛЕР\n",
            "x = 0    y = 87\n",
            "x = 1    y = 84.075\n",
            "x = 2    y = 81.281625\n",
            "x = 3    y = 78.613951875\n",
            "x = 4    y = 76.066324040625\n",
            "x = 5    y = 73.63333945879688\n",
            "x = 6    y = 71.30983918315103\n",
            "x = 7    y = 69.09089641990923\n",
            "x = 8    y = 66.97180608101331\n",
            "x = 9    y = 64.94807480736772\n",
            "x = 10    y = 63.01541144103617\n",
            "x = 11    y = 61.16971792618954\n",
            "x = 12    y = 59.407080619511014\n",
            "x = 13    y = 57.72376199163302\n"
          ]
        }
      ]
    },
    {
      "cell_type": "code",
      "source": [
        "xy_Euler_Cauchy = Euler_Cauchy(xy, y_s, k, h, n)\n",
        "print(\"\\nЕЙЛЕР-КОШІ\")\n",
        "# print_xy(xy_Euler_Cauchy)\n",
        "print(tabulate(xy_Euler_Cauchy, headers = ['x','y'], tablefmt='fancy_grid', floatfmt=['.6f', '.6f']))"
      ],
      "metadata": {
        "colab": {
          "base_uri": "https://localhost:8080/"
        },
        "id": "dmjDxOxful13",
        "outputId": "ea647261-cffe-4e6d-f941-9c44865e7b72"
      },
      "execution_count": 5,
      "outputs": [
        {
          "output_type": "stream",
          "name": "stdout",
          "text": [
            "\n",
            "ЕЙЛЕР-КОШІ\n",
            "x = 0    y = 87\n",
            "x = 1    y = 84.1408125\n",
            "x = 2    y = 81.40739351015624\n",
            "x = 3    y = 78.79421078812824\n",
            "x = 4    y = 76.29597544108545\n",
            "x = 5    y = 73.9076312213707\n",
            "x = 6    y = 71.62434429302067\n",
            "x = 7    y = 69.44149344843143\n",
            "x = 8    y = 67.35466075536856\n",
            "x = 9    y = 65.35962261539179\n",
            "x = 10    y = 63.45234121559724\n",
            "x = 11    y = 61.62895635637615\n",
            "x = 12    y = 59.885777638650055\n",
            "x = 13    y = 58.219276994769935\n",
            "╒═════╤═══════════╕\n",
            "│   x │         y │\n",
            "╞═════╪═══════════╡\n",
            "│   0 │ 87.000000 │\n",
            "├─────┼───────────┤\n",
            "│   1 │ 84.140812 │\n",
            "├─────┼───────────┤\n",
            "│   2 │ 81.407394 │\n",
            "├─────┼───────────┤\n",
            "│   3 │ 78.794211 │\n",
            "├─────┼───────────┤\n",
            "│   4 │ 76.295975 │\n",
            "├─────┼───────────┤\n",
            "│   5 │ 73.907631 │\n",
            "├─────┼───────────┤\n",
            "│   6 │ 71.624344 │\n",
            "├─────┼───────────┤\n",
            "│   7 │ 69.441493 │\n",
            "├─────┼───────────┤\n",
            "│   8 │ 67.354661 │\n",
            "├─────┼───────────┤\n",
            "│   9 │ 65.359623 │\n",
            "├─────┼───────────┤\n",
            "│  10 │ 63.452341 │\n",
            "├─────┼───────────┤\n",
            "│  11 │ 61.628956 │\n",
            "├─────┼───────────┤\n",
            "│  12 │ 59.885778 │\n",
            "├─────┼───────────┤\n",
            "│  13 │ 58.219277 │\n",
            "╘═════╧═══════════╛\n"
          ]
        }
      ]
    },
    {
      "cell_type": "markdown",
      "source": [
        "## Графіки розв’язку"
      ],
      "metadata": {
        "id": "Qkm1eFH6kQHl"
      }
    },
    {
      "cell_type": "code",
      "source": [
        "plt.plot([point[0] for point in xy_Euler], [point[1] for point in xy_Euler], color='r', label='Euler')\n",
        "plt.plot([point[0] for point in xy_Euler_Cauchy], [point[1] for point in xy_Euler_Cauchy], color='b', label='Euler_Cauchy')\n",
        "plt.legend()\n",
        "plt.show()"
      ],
      "metadata": {
        "colab": {
          "base_uri": "https://localhost:8080/",
          "height": 430
        },
        "id": "5DRt7wqscL1f",
        "outputId": "aac2d3ad-7c7b-4827-e261-14cf7236b6a8"
      },
      "execution_count": 6,
      "outputs": [
        {
          "output_type": "display_data",
          "data": {
            "text/plain": [
              "<Figure size 640x480 with 1 Axes>"
            ],
            "image/png": "[encoded data removed]"
          },
          "metadata": {}
        }
      ]
    }
  ]
}
